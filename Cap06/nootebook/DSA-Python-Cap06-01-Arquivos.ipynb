{
 "cells": [
  {
   "cell_type": "markdown",
   "id": "1a4a19fb",
   "metadata": {},
   "source": [
    "# Fundamentos de Linguagem Python para Análise de Dados e Data Science\n",
    "\n",
    "# Capítulo 6 - Manipulação de Arquivos - Parte 1"
   ]
  },
  {
   "cell_type": "code",
   "execution_count": 1,
   "id": "ed406bb4",
   "metadata": {},
   "outputs": [
    {
     "name": "stdout",
     "output_type": "stream",
     "text": [
      "Versão da Linguagem Python usada neste Jupyter Notebook: 3.9.13\n"
     ]
    }
   ],
   "source": [
    "# Versão da Linguagem Python\n",
    "from platform import python_version\n",
    "print(\"Versão da Linguagem Python usada neste Jupyter Notebook:\", python_version())"
   ]
  },
  {
   "cell_type": "markdown",
   "id": "64b46fa5",
   "metadata": {},
   "source": [
    "## Manipulação de arquivos"
   ]
  },
  {
   "cell_type": "markdown",
   "id": "91f68db7",
   "metadata": {},
   "source": [
    "### Lendo arquivos"
   ]
  },
  {
   "cell_type": "code",
   "execution_count": 9,
   "id": "4456945b",
   "metadata": {},
   "outputs": [],
   "source": [
    "# Abrindo o arquivo para leitura\n",
    "arq1 = open(\"arquivos/arquivo1.txt\", \"r\") # r = read"
   ]
  },
  {
   "cell_type": "code",
   "execution_count": 10,
   "id": "fe482b55",
   "metadata": {},
   "outputs": [
    {
     "data": {
      "text/plain": [
       "_io.TextIOWrapper"
      ]
     },
     "execution_count": 10,
     "metadata": {},
     "output_type": "execute_result"
    }
   ],
   "source": [
    "type(arq1)"
   ]
  },
  {
   "cell_type": "code",
   "execution_count": 11,
   "id": "1ab5a429",
   "metadata": {},
   "outputs": [
    {
     "name": "stdout",
     "output_type": "stream",
     "text": [
      "A Data Science Academy fornece cursos de alta qualidade e que transmitem muito conhecimento.\n"
     ]
    }
   ],
   "source": [
    "# Lendo o arquivo\n",
    "print(arq1.read())"
   ]
  },
  {
   "cell_type": "code",
   "execution_count": 12,
   "id": "eeba1b63",
   "metadata": {},
   "outputs": [
    {
     "name": "stdout",
     "output_type": "stream",
     "text": [
      "92\n"
     ]
    }
   ],
   "source": [
    "# Contar o número de caracteres\n",
    "print(arq1.tell())"
   ]
  },
  {
   "cell_type": "code",
   "execution_count": 13,
   "id": "ec9ba7e4",
   "metadata": {},
   "outputs": [
    {
     "name": "stdout",
     "output_type": "stream",
     "text": [
      "\n"
     ]
    }
   ],
   "source": [
    "# Lendo novamente o arquivo\n",
    "print(arq1.read())"
   ]
  },
  {
   "cell_type": "code",
   "execution_count": 14,
   "id": "307f1be0",
   "metadata": {},
   "outputs": [
    {
     "name": "stdout",
     "output_type": "stream",
     "text": [
      "0\n"
     ]
    }
   ],
   "source": [
    "# Retornar para o início do arquivo\n",
    "print(arq1.seek(0, 0))"
   ]
  },
  {
   "cell_type": "code",
   "execution_count": 15,
   "id": "af5b2325",
   "metadata": {},
   "outputs": [
    {
     "name": "stdout",
     "output_type": "stream",
     "text": [
      "A Data Science Academy \n"
     ]
    }
   ],
   "source": [
    "# Lendo os primeiros 23 caracteres\n",
    "print(arq1.read(23))"
   ]
  },
  {
   "cell_type": "code",
   "execution_count": 17,
   "id": "054da13a",
   "metadata": {},
   "outputs": [
    {
     "name": "stdout",
     "output_type": "stream",
     "text": [
      "fornece cursos de alta qualidade e que transmitem muito conhecimento.\n"
     ]
    }
   ],
   "source": [
    "print(arq1.read())"
   ]
  },
  {
   "cell_type": "markdown",
   "id": "9a1b00a1",
   "metadata": {},
   "source": [
    "### Gravando Arquivos"
   ]
  },
  {
   "cell_type": "code",
   "execution_count": null,
   "id": "a0694bc4",
   "metadata": {},
   "outputs": [],
   "source": []
  }
 ],
 "metadata": {
  "kernelspec": {
   "display_name": "Python 3 (ipykernel)",
   "language": "python",
   "name": "python3"
  },
  "language_info": {
   "codemirror_mode": {
    "name": "ipython",
    "version": 3
   },
   "file_extension": ".py",
   "mimetype": "text/x-python",
   "name": "python",
   "nbconvert_exporter": "python",
   "pygments_lexer": "ipython3",
   "version": "3.9.13"
  }
 },
 "nbformat": 4,
 "nbformat_minor": 5
}
