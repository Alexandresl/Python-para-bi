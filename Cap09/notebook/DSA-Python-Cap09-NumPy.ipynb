{
 "cells": [
  {
   "cell_type": "markdown",
   "id": "6acf003b",
   "metadata": {},
   "source": [
    "# Fundamentos de Linguagem Python Para Análise de Dados e Data Science\n",
    "\n",
    "# Matemática e Manipulação de Matrizes com NumPy"
   ]
  },
  {
   "cell_type": "markdown",
   "id": "0363d1b2",
   "metadata": {},
   "source": [
    "![imagem](imagens/dsa_cap09.png)"
   ]
  },
  {
   "cell_type": "code",
   "execution_count": 1,
   "id": "5bcbd32d",
   "metadata": {},
   "outputs": [
    {
     "name": "stdout",
     "output_type": "stream",
     "text": [
      "A versão da Linguagem Python usada neste Jupyter Notebook: 3.9.13\n"
     ]
    }
   ],
   "source": [
    "# Versão da Linguagem Python\n",
    "from platform import python_version\n",
    "print(\"A versão da Linguagem Python usada neste Jupyter Notebook:\", python_version())"
   ]
  },
  {
   "cell_type": "markdown",
   "id": "a3ac425e",
   "metadata": {},
   "source": [
    "## NumPy\n",
    "\n",
    "[https://numpy.org/](https://numpy.org/)"
   ]
  },
  {
   "cell_type": "code",
   "execution_count": 13,
   "id": "cc69efb9",
   "metadata": {},
   "outputs": [],
   "source": [
    "# Importando o NumPy\n",
    "import numpy as np"
   ]
  },
  {
   "cell_type": "code",
   "execution_count": 14,
   "id": "5464fda3",
   "metadata": {},
   "outputs": [
    {
     "data": {
      "text/plain": [
       "'1.21.5'"
      ]
     },
     "execution_count": 14,
     "metadata": {},
     "output_type": "execute_result"
    }
   ],
   "source": [
    "np.__version__"
   ]
  },
  {
   "cell_type": "code",
   "execution_count": 11,
   "id": "2109b7f7",
   "metadata": {},
   "outputs": [
    {
     "name": "stdout",
     "output_type": "stream",
     "text": [
      "Requirement already satisfied: numpy==1.22.2 in c:\\users\\alexandre\\anaconda3\\lib\\site-packages (1.22.2)\n"
     ]
    }
   ],
   "source": [
    "# Instrução para instalar uma versão exata do pacote em python\n",
    "# !pip install numpy==1.22.2"
   ]
  },
  {
   "cell_type": "markdown",
   "id": "b3df2602",
   "metadata": {},
   "source": [
    "### Criando Arrays NumPy"
   ]
  },
  {
   "cell_type": "code",
   "execution_count": 15,
   "id": "b2bcbf96",
   "metadata": {},
   "outputs": [],
   "source": [
    "# Array criado a partir de um alista python\n",
    "arr1 = np.array([10, 21, 32, 43, 48, 15, 76, 57, 89])"
   ]
  },
  {
   "cell_type": "code",
   "execution_count": 16,
   "id": "7a759b90",
   "metadata": {},
   "outputs": [
    {
     "name": "stdout",
     "output_type": "stream",
     "text": [
      "[10 21 32 43 48 15 76 57 89]\n"
     ]
    }
   ],
   "source": [
    "print(arr1)"
   ]
  },
  {
   "cell_type": "code",
   "execution_count": 17,
   "id": "a21f9ba3",
   "metadata": {},
   "outputs": [
    {
     "data": {
      "text/plain": [
       "numpy.ndarray"
      ]
     },
     "execution_count": 17,
     "metadata": {},
     "output_type": "execute_result"
    }
   ],
   "source": [
    "# Um 9objeto do tipo ndarray é um recipiente multidimensional de itens do mesmo tipo e tamanho\n",
    "type(arr1)"
   ]
  },
  {
   "cell_type": "code",
   "execution_count": 18,
   "id": "d9316ec1",
   "metadata": {},
   "outputs": [
    {
     "data": {
      "text/plain": [
       "(9,)"
      ]
     },
     "execution_count": 18,
     "metadata": {},
     "output_type": "execute_result"
    }
   ],
   "source": [
    "# Verificando o formato do array\n",
    "arr1.shape"
   ]
  },
  {
   "cell_type": "markdown",
   "id": "bb7b3eb4",
   "metadata": {},
   "source": [
    "Um array NumPy é uma estrutura de dados multidimensional usada em computação científica e análise de dados. o NumPy fornece um objeto de matriz N-dimensional (ndarray), que é uma grande homogênea de elementos, geralmente números, que podem ser indexados por um conjunto de inteiros.\n",
    "\n",
    "Os arrays NumPy são mais eficientes do que as listas Python para armazenar e manipular grandes quantidades de dados, pois são implementadaos em Linguagem C e forne3cem várias otimizaç~´oes de desempenho. Além disso, o NumPy permite a fácil leitura e escrita de arquivos de dados, integração com outras bibliotecas Python e suporte a operações em paralelo usando várias CPUs e GPUs."
   ]
  },
  {
   "cell_type": "markdown",
   "id": "205b4ecc",
   "metadata": {},
   "source": [
    "![imagem](imagens/formatos.png)"
   ]
  },
  {
   "cell_type": "code",
   "execution_count": null,
   "id": "46ad91a0",
   "metadata": {},
   "outputs": [],
   "source": []
  }
 ],
 "metadata": {
  "kernelspec": {
   "display_name": "Python 3 (ipykernel)",
   "language": "python",
   "name": "python3"
  },
  "language_info": {
   "codemirror_mode": {
    "name": "ipython",
    "version": 3
   },
   "file_extension": ".py",
   "mimetype": "text/x-python",
   "name": "python",
   "nbconvert_exporter": "python",
   "pygments_lexer": "ipython3",
   "version": "3.9.13"
  }
 },
 "nbformat": 4,
 "nbformat_minor": 5
}
