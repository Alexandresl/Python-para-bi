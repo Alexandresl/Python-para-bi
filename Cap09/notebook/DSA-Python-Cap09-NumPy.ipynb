{
 "cells": [
  {
   "cell_type": "markdown",
   "id": "249d250a",
   "metadata": {},
   "source": [
    "# Fundamentos de Linguagem Python Para Análise de Dados e Data Science\n",
    "\n",
    "# Matemática e Manipulação de Matrizes com NumPy"
   ]
  },
  {
   "cell_type": "markdown",
   "id": "a485d4a6",
   "metadata": {},
   "source": [
    "![imagem](imagens/dsa_cap09.png)"
   ]
  },
  {
   "cell_type": "code",
   "execution_count": 1,
   "id": "8410a628",
   "metadata": {},
   "outputs": [
    {
     "name": "stdout",
     "output_type": "stream",
     "text": [
      "A versão da Linguagem Python usada neste Jupyter Notebook: 3.9.13\n"
     ]
    }
   ],
   "source": [
    "# Versão da Linguagem Python\n",
    "from platform import python_version\n",
    "print(\"A versão da Linguagem Python usada neste Jupyter Notebook:\", python_version())"
   ]
  },
  {
   "cell_type": "markdown",
   "id": "a607ebb5",
   "metadata": {},
   "source": [
    "## NumPy\n",
    "\n",
    "[https://numpy.org/](https://numpy.org/)"
   ]
  },
  {
   "cell_type": "code",
   "execution_count": 13,
   "id": "dd3968a8",
   "metadata": {},
   "outputs": [],
   "source": [
    "# Importando o NumPy\n",
    "import numpy as np"
   ]
  },
  {
   "cell_type": "code",
   "execution_count": 14,
   "id": "1ea8f70b",
   "metadata": {},
   "outputs": [
    {
     "data": {
      "text/plain": [
       "'1.21.5'"
      ]
     },
     "execution_count": 14,
     "metadata": {},
     "output_type": "execute_result"
    }
   ],
   "source": [
    "np.__version__"
   ]
  },
  {
   "cell_type": "code",
   "execution_count": 11,
   "id": "862cb9ca",
   "metadata": {},
   "outputs": [
    {
     "name": "stdout",
     "output_type": "stream",
     "text": [
      "Requirement already satisfied: numpy==1.22.2 in c:\\users\\alexandre\\anaconda3\\lib\\site-packages (1.22.2)\n"
     ]
    }
   ],
   "source": [
    "# Instrução para instalar uma versão exata do pacote em python\n",
    "# !pip install numpy==1.22.2"
   ]
  },
  {
   "cell_type": "markdown",
   "id": "08250a16",
   "metadata": {},
   "source": [
    "### Criando Arrays NumPy"
   ]
  },
  {
   "cell_type": "code",
   "execution_count": 15,
   "id": "ec53cce7",
   "metadata": {},
   "outputs": [],
   "source": [
    "# Array criado a partir de um alista python\n",
    "arr1 = np.array([10, 21, 32, 43, 48, 15, 76, 57, 89])"
   ]
  },
  {
   "cell_type": "code",
   "execution_count": 16,
   "id": "bc0bc885",
   "metadata": {},
   "outputs": [
    {
     "name": "stdout",
     "output_type": "stream",
     "text": [
      "[10 21 32 43 48 15 76 57 89]\n"
     ]
    }
   ],
   "source": [
    "print(arr1)"
   ]
  },
  {
   "cell_type": "code",
   "execution_count": 17,
   "id": "35c3e4ac",
   "metadata": {},
   "outputs": [
    {
     "data": {
      "text/plain": [
       "numpy.ndarray"
      ]
     },
     "execution_count": 17,
     "metadata": {},
     "output_type": "execute_result"
    }
   ],
   "source": [
    "# Um 9objeto do tipo ndarray é um recipiente multidimensional de itens do mesmo tipo e tamanho\n",
    "type(arr1)"
   ]
  },
  {
   "cell_type": "code",
   "execution_count": 18,
   "id": "345c5265",
   "metadata": {},
   "outputs": [
    {
     "data": {
      "text/plain": [
       "(9,)"
      ]
     },
     "execution_count": 18,
     "metadata": {},
     "output_type": "execute_result"
    }
   ],
   "source": [
    "# Verificando o formato do array\n",
    "arr1.shape"
   ]
  },
  {
   "cell_type": "markdown",
   "id": "5e3803da",
   "metadata": {},
   "source": [
    "Um array NumPy é uma estrutura de dados multidimensional usada em computação científica e análise de dados. o NumPy fornece um objeto de matriz N-dimensional (ndarray), que é uma grande homogênea de elementos, geralmente números, que podem ser indexados por um conjunto de inteiros.\n",
    "\n",
    "Os arrays NumPy são mais eficientes do que as listas Python para armazenar e manipular grandes quantidades de dados, pois são implementadaos em Linguagem C e forne3cem várias otimizaç~´oes de desempenho. Além disso, o NumPy permite a fácil leitura e escrita de arquivos de dados, integração com outras bibliotecas Python e suporte a operações em paralelo usando várias CPUs e GPUs."
   ]
  },
  {
   "cell_type": "markdown",
   "id": "d6951d02",
   "metadata": {},
   "source": [
    "![imagem](imagens/formatos.png)"
   ]
  },
  {
   "cell_type": "code",
   "execution_count": 20,
   "id": "65053797",
   "metadata": {},
   "outputs": [
    {
     "name": "stdout",
     "output_type": "stream",
     "text": [
      "[10 21 32 43 48 15 76 57 89]\n"
     ]
    }
   ],
   "source": [
    "print(arr1)"
   ]
  },
  {
   "cell_type": "code",
   "execution_count": 21,
   "id": "71083056",
   "metadata": {},
   "outputs": [
    {
     "data": {
      "text/plain": [
       "48"
      ]
     },
     "execution_count": 21,
     "metadata": {},
     "output_type": "execute_result"
    }
   ],
   "source": [
    "# Imprimindo um elemento específico no array\n",
    "arr1[4]"
   ]
  },
  {
   "cell_type": "code",
   "execution_count": 22,
   "id": "a6782526",
   "metadata": {},
   "outputs": [
    {
     "data": {
      "text/plain": [
       "array([21, 32, 43])"
      ]
     },
     "execution_count": 22,
     "metadata": {},
     "output_type": "execute_result"
    }
   ],
   "source": [
    "# Indexação\n",
    "arr1[1:4]"
   ]
  },
  {
   "cell_type": "code",
   "execution_count": 23,
   "id": "12e6d3f1",
   "metadata": {},
   "outputs": [
    {
     "data": {
      "text/plain": [
       "array([21, 32, 43, 48])"
      ]
     },
     "execution_count": 23,
     "metadata": {},
     "output_type": "execute_result"
    }
   ],
   "source": [
    "# Indexação\n",
    "arr1[1:4+1]"
   ]
  },
  {
   "cell_type": "code",
   "execution_count": 24,
   "id": "79761683",
   "metadata": {},
   "outputs": [],
   "source": [
    "# Cria uma lista de índices\n",
    "indices = [1, 2, 5, 6]"
   ]
  },
  {
   "cell_type": "code",
   "execution_count": 25,
   "id": "fc3feb97",
   "metadata": {},
   "outputs": [
    {
     "data": {
      "text/plain": [
       "array([21, 32, 15, 76])"
      ]
     },
     "execution_count": 25,
     "metadata": {},
     "output_type": "execute_result"
    }
   ],
   "source": [
    "# Imp-0rimindo os elementos dos índices\n",
    "arr1[indices]"
   ]
  },
  {
   "cell_type": "code",
   "execution_count": 26,
   "id": "23c09ec7",
   "metadata": {},
   "outputs": [],
   "source": [
    "# Cria uma máscara booleana para os elementos pares\n",
    "mask = (arr1 % 2 == 0)"
   ]
  },
  {
   "cell_type": "code",
   "execution_count": 27,
   "id": "8be0e23f",
   "metadata": {},
   "outputs": [
    {
     "data": {
      "text/plain": [
       "array([10, 32, 48, 76])"
      ]
     },
     "execution_count": 27,
     "metadata": {},
     "output_type": "execute_result"
    }
   ],
   "source": [
    "arr1[mask]"
   ]
  },
  {
   "cell_type": "code",
   "execution_count": 31,
   "id": "b3d2bda8",
   "metadata": {},
   "outputs": [
    {
     "data": {
      "text/plain": [
       "array([ True, False,  True, False,  True, False,  True, False, False])"
      ]
     },
     "execution_count": 31,
     "metadata": {},
     "output_type": "execute_result"
    }
   ],
   "source": [
    "mask"
   ]
  },
  {
   "cell_type": "code",
   "execution_count": 28,
   "id": "b7bd43f6",
   "metadata": {},
   "outputs": [],
   "source": [
    "# Alterando um elemento do array\n",
    "arr1[0] = 100"
   ]
  },
  {
   "cell_type": "code",
   "execution_count": 29,
   "id": "6e02fa9a",
   "metadata": {},
   "outputs": [
    {
     "name": "stdout",
     "output_type": "stream",
     "text": [
      "[100  21  32  43  48  15  76  57  89]\n"
     ]
    }
   ],
   "source": [
    "print(arr1)"
   ]
  },
  {
   "cell_type": "code",
   "execution_count": 30,
   "id": "65c162d0",
   "metadata": {},
   "outputs": [
    {
     "name": "stdout",
     "output_type": "stream",
     "text": [
      "Operação não permitida\n"
     ]
    }
   ],
   "source": [
    "# Não é possível incluir elemento de outro tipo\n",
    "try:\n",
    "    arr1[0] = 'Novo Elemento'\n",
    "except:\n",
    "    print(\"Operação não permitida\")"
   ]
  },
  {
   "cell_type": "markdown",
   "id": "da2b0b35",
   "metadata": {},
   "source": [
    "### Funções NumPy"
   ]
  },
  {
   "cell_type": "code",
   "execution_count": 32,
   "id": "94b9cf5d",
   "metadata": {},
   "outputs": [],
   "source": [
    "# A função array() cria um array NumPy\n",
    "arr2 = np.array([1, 2, 3, 4, 5])"
   ]
  },
  {
   "cell_type": "code",
   "execution_count": 33,
   "id": "78dd14d3",
   "metadata": {},
   "outputs": [
    {
     "name": "stdout",
     "output_type": "stream",
     "text": [
      "[1 2 3 4 5]\n"
     ]
    }
   ],
   "source": [
    "print(arr2)"
   ]
  },
  {
   "cell_type": "code",
   "execution_count": 34,
   "id": "9ca18e92",
   "metadata": {},
   "outputs": [
    {
     "data": {
      "text/plain": [
       "numpy.ndarray"
      ]
     },
     "execution_count": 34,
     "metadata": {},
     "output_type": "execute_result"
    }
   ],
   "source": [
    "# Verificando o tipo do objeto\n",
    "type(arr2)"
   ]
  },
  {
   "cell_type": "code",
   "execution_count": 81,
   "id": "f44c84bc",
   "metadata": {},
   "outputs": [
    {
     "data": {
      "text/plain": [
       "array([ 1,  3,  6, 10, 15], dtype=int32)"
      ]
     },
     "execution_count": 81,
     "metadata": {},
     "output_type": "execute_result"
    }
   ],
   "source": [
    "# Usando métodos do array NumPy\n",
    "arr2.cumsum()"
   ]
  },
  {
   "cell_type": "code",
   "execution_count": 39,
   "id": "6197a027",
   "metadata": {},
   "outputs": [
    {
     "data": {
      "text/plain": [
       "array([  1,   2,   6,  24, 120], dtype=int32)"
      ]
     },
     "execution_count": 39,
     "metadata": {},
     "output_type": "execute_result"
    }
   ],
   "source": [
    "arr2.cumprod()"
   ]
  },
  {
   "cell_type": "code",
   "execution_count": 58,
   "id": "016b8523",
   "metadata": {},
   "outputs": [],
   "source": [
    "# A função arange cria um array NumPy contendo uma progressão aritmética a partir de um intervalo - start, stop, step\n",
    "arr3 = np.arange(0, 50, 5)"
   ]
  },
  {
   "cell_type": "code",
   "execution_count": 59,
   "id": "2e9bda34",
   "metadata": {},
   "outputs": [
    {
     "name": "stdout",
     "output_type": "stream",
     "text": [
      "[ 0  5 10 15 20 25 30 35 40 45]\n"
     ]
    }
   ],
   "source": [
    "print(arr3)"
   ]
  },
  {
   "cell_type": "code",
   "execution_count": 60,
   "id": "4a698a8d",
   "metadata": {},
   "outputs": [
    {
     "data": {
      "text/plain": [
       "numpy.ndarray"
      ]
     },
     "execution_count": 60,
     "metadata": {},
     "output_type": "execute_result"
    }
   ],
   "source": [
    "# Verificando o tipo do objeto\n",
    "type(arr3)"
   ]
  },
  {
   "cell_type": "code",
   "execution_count": 61,
   "id": "05563949",
   "metadata": {},
   "outputs": [
    {
     "data": {
      "text/plain": [
       "(10,)"
      ]
     },
     "execution_count": 61,
     "metadata": {},
     "output_type": "execute_result"
    }
   ],
   "source": [
    "# Formato do array\n",
    "np.shape(arr3)"
   ]
  },
  {
   "cell_type": "code",
   "execution_count": 62,
   "id": "4a615b98",
   "metadata": {},
   "outputs": [
    {
     "name": "stdout",
     "output_type": "stream",
     "text": [
      "int32\n"
     ]
    }
   ],
   "source": [
    "print(arr3.dtype)"
   ]
  },
  {
   "cell_type": "code",
   "execution_count": 63,
   "id": "97a52d89",
   "metadata": {},
   "outputs": [],
   "source": [
    "# Cria um array poreenchido com zeros\n",
    "arr4 = np.zeros(10)"
   ]
  },
  {
   "cell_type": "code",
   "execution_count": 64,
   "id": "83434cdd",
   "metadata": {},
   "outputs": [
    {
     "name": "stdout",
     "output_type": "stream",
     "text": [
      "[0. 0. 0. 0. 0. 0. 0. 0. 0. 0.]\n"
     ]
    }
   ],
   "source": [
    "print(arr4)"
   ]
  },
  {
   "cell_type": "code",
   "execution_count": 65,
   "id": "a50e9ae1",
   "metadata": {},
   "outputs": [],
   "source": [
    "# Retorna 1 nas posições em diagonal e 0 nas restantes\n",
    "arr5 = np.eye(3)"
   ]
  },
  {
   "cell_type": "code",
   "execution_count": 66,
   "id": "9d762132",
   "metadata": {},
   "outputs": [
    {
     "name": "stdout",
     "output_type": "stream",
     "text": [
      "[[1. 0. 0.]\n",
      " [0. 1. 0.]\n",
      " [0. 0. 1.]]\n"
     ]
    }
   ],
   "source": [
    "print(arr5)"
   ]
  },
  {
   "cell_type": "code",
   "execution_count": 68,
   "id": "a992915a",
   "metadata": {},
   "outputs": [],
   "source": [
    "# Os valores passados como parâmetro, formam uma diagonal\n",
    "arr6 = np.diag(np.array([1, 2, 3, 4]))"
   ]
  },
  {
   "cell_type": "code",
   "execution_count": 69,
   "id": "5856e797",
   "metadata": {},
   "outputs": [
    {
     "name": "stdout",
     "output_type": "stream",
     "text": [
      "[[1 0 0 0]\n",
      " [0 2 0 0]\n",
      " [0 0 3 0]\n",
      " [0 0 0 4]]\n"
     ]
    }
   ],
   "source": [
    "print(arr6)"
   ]
  },
  {
   "cell_type": "code",
   "execution_count": 74,
   "id": "0f579820",
   "metadata": {},
   "outputs": [],
   "source": [
    "arr7 = np.array([True, False, False, True])"
   ]
  },
  {
   "cell_type": "code",
   "execution_count": 75,
   "id": "fa22f485",
   "metadata": {},
   "outputs": [
    {
     "name": "stdout",
     "output_type": "stream",
     "text": [
      "[ True False False  True]\n"
     ]
    }
   ],
   "source": [
    "print(arr7)"
   ]
  },
  {
   "cell_type": "code",
   "execution_count": 77,
   "id": "0b693d08",
   "metadata": {},
   "outputs": [],
   "source": [
    "# Array de strings\n",
    "arr8 = np.array(['Linaguagem Python', 'Linguagem R', 'Linguagem Julia'])"
   ]
  },
  {
   "cell_type": "code",
   "execution_count": 78,
   "id": "9fbfe3dd",
   "metadata": {},
   "outputs": [
    {
     "name": "stdout",
     "output_type": "stream",
     "text": [
      "['Linaguagem Python' 'Linguagem R' 'Linguagem Julia']\n"
     ]
    }
   ],
   "source": [
    "print(arr8)"
   ]
  },
  {
   "cell_type": "markdown",
   "id": "edbfe255",
   "metadata": {},
   "source": [
    "A função linspace() do NumPy é usada para criar uma sequência de números igualmente espaçados dentro de um intervalo especificado. Essa função é ampolamente utilizada em programação científica e matemática para gerar arrays de números para diversos fins, como gráficos, cálculos e simulações\n",
    "\n",
    "O método linspace (linearly space vector) retorna um n´~umero de valores igualmente distribuídos no intervalo especificado."
   ]
  },
  {
   "cell_type": "code",
   "execution_count": 79,
   "id": "005eabd6",
   "metadata": {},
   "outputs": [
    {
     "name": "stdout",
     "output_type": "stream",
     "text": [
      "[ 0.          0.20408163  0.40816327  0.6122449   0.81632653  1.02040816\n",
      "  1.2244898   1.42857143  1.63265306  1.83673469  2.04081633  2.24489796\n",
      "  2.44897959  2.65306122  2.85714286  3.06122449  3.26530612  3.46938776\n",
      "  3.67346939  3.87755102  4.08163265  4.28571429  4.48979592  4.69387755\n",
      "  4.89795918  5.10204082  5.30612245  5.51020408  5.71428571  5.91836735\n",
      "  6.12244898  6.32653061  6.53061224  6.73469388  6.93877551  7.14285714\n",
      "  7.34693878  7.55102041  7.75510204  7.95918367  8.16326531  8.36734694\n",
      "  8.57142857  8.7755102   8.97959184  9.18367347  9.3877551   9.59183673\n",
      "  9.79591837 10.        ]\n"
     ]
    }
   ],
   "source": [
    "print(np.linspace(0, 10))"
   ]
  },
  {
   "cell_type": "code",
   "execution_count": 80,
   "id": "6f2d76df",
   "metadata": {},
   "outputs": [
    {
     "name": "stdout",
     "output_type": "stream",
     "text": [
      "[ 0.          0.71428571  1.42857143  2.14285714  2.85714286  3.57142857\n",
      "  4.28571429  5.          5.71428571  6.42857143  7.14285714  7.85714286\n",
      "  8.57142857  9.28571429 10.        ]\n"
     ]
    }
   ],
   "source": [
    "print(np.linspace(0, 10, 15))"
   ]
  },
  {
   "cell_type": "markdown",
   "id": "ce4fd93d",
   "metadata": {},
   "source": [
    "A função logspace() do NumPy é usada para criar uma sequência igualmente espaçados em escala logarítmica dentro de um intervalo especificado. Essa função é amplamente utilizada em programação científica e matemática para gerar arrays de números para diversos fins, como gráficos, cálculos e simulações"
   ]
  },
  {
   "cell_type": "code",
   "execution_count": 82,
   "id": "47fe79c7",
   "metadata": {},
   "outputs": [
    {
     "name": "stdout",
     "output_type": "stream",
     "text": [
      "[1.00000000e+00 3.59381366e+00 1.29154967e+01 4.64158883e+01\n",
      " 1.66810054e+02 5.99484250e+02 2.15443469e+03 7.74263683e+03\n",
      " 2.78255940e+04 1.00000000e+05]\n"
     ]
    }
   ],
   "source": [
    "print(np.logspace(0, 5, 10))"
   ]
  },
  {
   "cell_type": "code",
   "execution_count": null,
   "id": "0529eb35",
   "metadata": {},
   "outputs": [],
   "source": []
  }
 ],
 "metadata": {
  "kernelspec": {
   "display_name": "Python 3 (ipykernel)",
   "language": "python",
   "name": "python3"
  },
  "language_info": {
   "codemirror_mode": {
    "name": "ipython",
    "version": 3
   },
   "file_extension": ".py",
   "mimetype": "text/x-python",
   "name": "python",
   "nbconvert_exporter": "python",
   "pygments_lexer": "ipython3",
   "version": "3.9.13"
  }
 },
 "nbformat": 4,
 "nbformat_minor": 5
}
