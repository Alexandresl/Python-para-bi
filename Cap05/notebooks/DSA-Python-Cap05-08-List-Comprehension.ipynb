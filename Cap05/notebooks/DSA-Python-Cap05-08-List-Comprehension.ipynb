{
 "cells": [
  {
   "cell_type": "markdown",
   "id": "1bbd60ea",
   "metadata": {},
   "source": [
    "# Fundamentos da Linguagem Python para Análise de Dados e Data Science\n",
    "\n",
    "# Capítulo 5 - List Comprehension"
   ]
  },
  {
   "cell_type": "code",
   "execution_count": 1,
   "id": "75c11405",
   "metadata": {},
   "outputs": [
    {
     "name": "stdout",
     "output_type": "stream",
     "text": [
      "Versão da Linguagem Python usada neste Jupyter Notebook: 3.9.13\n"
     ]
    }
   ],
   "source": [
    "# Versão da linguagem Python\n",
    "from platform import python_version\n",
    "print(\"Versão da Linguagem Python usada neste Jupyter Notebook:\", python_version())"
   ]
  },
  {
   "cell_type": "markdown",
   "id": "94b89d5b",
   "metadata": {},
   "source": [
    "## List Comprehension\n",
    "\n",
    "[expressão for item in iterable if condição == true]"
   ]
  },
  {
   "cell_type": "code",
   "execution_count": 2,
   "id": "ed3a14c0",
   "metadata": {},
   "outputs": [
    {
     "data": {
      "text/plain": [
       "[0, 1, 2, 3, 4, 5, 6, 7, 8, 9]"
      ]
     },
     "execution_count": 2,
     "metadata": {},
     "output_type": "execute_result"
    }
   ],
   "source": [
    "# List comprehension que imprime os números até 10\n",
    "[x for x in range(10)]"
   ]
  },
  {
   "cell_type": "code",
   "execution_count": 3,
   "id": "aa932873",
   "metadata": {},
   "outputs": [],
   "source": [
    "# List comprehension que imprime os número até 10 e grava em uma lista python\n",
    "lista_numeros = [x for x in range(10)]"
   ]
  },
  {
   "cell_type": "code",
   "execution_count": 4,
   "id": "376a288a",
   "metadata": {},
   "outputs": [
    {
     "data": {
      "text/plain": [
       "[0, 1, 2, 3, 4, 5, 6, 7, 8, 9]"
      ]
     },
     "execution_count": 4,
     "metadata": {},
     "output_type": "execute_result"
    }
   ],
   "source": [
    "lista_numeros"
   ]
  },
  {
   "cell_type": "code",
   "execution_count": 5,
   "id": "47a96afe",
   "metadata": {},
   "outputs": [
    {
     "name": "stdout",
     "output_type": "stream",
     "text": [
      "[0, 1, 2, 3, 4]\n"
     ]
    }
   ],
   "source": [
    "# List comprehension que imprime os números menores que 5 em um intervalo de 1 a 10\n",
    "lista_numeros = [x for x in range(10) if x < 5]\n",
    "print(lista_numeros)"
   ]
  },
  {
   "cell_type": "code",
   "execution_count": 6,
   "id": "d9a60193",
   "metadata": {},
   "outputs": [],
   "source": [
    "# Lista de frutas\n",
    "lista_frutas = [\"banana\", \"abacate\", \"melancia\", \"cereja\", \"manga\"]\n",
    "\n",
    "# nova lista\n",
    "nova_lista = []"
   ]
  },
  {
   "cell_type": "code",
   "execution_count": 7,
   "id": "7345a860",
   "metadata": {},
   "outputs": [
    {
     "name": "stdout",
     "output_type": "stream",
     "text": [
      "['melancia', 'manga']\n"
     ]
    }
   ],
   "source": [
    "# loop tradicional para buscar as palavras com letra \"m\"\n",
    "for x in lista_frutas:\n",
    "    if \"m\" in x:\n",
    "        nova_lista.append(x)\n",
    "print(nova_lista)"
   ]
  },
  {
   "cell_type": "code",
   "execution_count": 9,
   "id": "af31808f",
   "metadata": {},
   "outputs": [
    {
     "name": "stdout",
     "output_type": "stream",
     "text": [
      "['melancia', 'manga']\n"
     ]
    }
   ],
   "source": [
    "# mesmo resultado anterior mas com list comprehension\n",
    "nova_lista = [x for x in lista_frutas if \"m\" in x]\n",
    "print(nova_lista)"
   ]
  },
  {
   "cell_type": "markdown",
   "id": "fc8bd4dc",
   "metadata": {},
   "source": [
    "## Dict Comprehension"
   ]
  },
  {
   "cell_type": "code",
   "execution_count": 10,
   "id": "db0e6ed8",
   "metadata": {},
   "outputs": [
    {
     "name": "stdout",
     "output_type": "stream",
     "text": [
      "{'Bob': 68, 'Michel': 84, 'Zico': 57, 'Ana': 93}\n"
     ]
    }
   ],
   "source": [
    "# Dicionário de alounos e notas\n",
    "dict_alunos = {\"Bob\": 68, \"Michel\": 84, \"Zico\": 57, \"Ana\": 93}\n",
    "\n",
    "# criamos um novo dicionário imprimindo os pares de chave: valor\n",
    "dict_alunos_status = {k: v for (k, v) in dict_alunos.items()}\n",
    "print(dict_alunos_status)"
   ]
  },
  {
   "cell_type": "code",
   "execution_count": 12,
   "id": "ec383eae",
   "metadata": {},
   "outputs": [
    {
     "name": "stdout",
     "output_type": "stream",
     "text": [
      "{'Bob': 'Reprovado', 'Michel': 'Aprovado', 'Zico': 'Reprovado', 'Ana': 'Aprovado'}\n"
     ]
    }
   ],
   "source": [
    "# Dicionário de alunos e notas\n",
    "dict_alunos = {\"Bob\": 68, \"Michel\": 84, \"Zico\": 57, \"Ana\": 93}\n",
    "\n",
    "# Criamos um novo dicionário com o status: nota maior que 70, aprovado, senão, reprovado\n",
    "dict_alunos_status = {k: (\"Aprovado\" if v > 70 else \"Reprovado\") for (k, v) in dict_alunos.items()}\n",
    "\n",
    "print(dict_alunos_status)"
   ]
  },
  {
   "cell_type": "markdown",
   "id": "55c8c262",
   "metadata": {},
   "source": [
    "## Fim"
   ]
  }
 ],
 "metadata": {
  "kernelspec": {
   "display_name": "Python 3 (ipykernel)",
   "language": "python",
   "name": "python3"
  },
  "language_info": {
   "codemirror_mode": {
    "name": "ipython",
    "version": 3
   },
   "file_extension": ".py",
   "mimetype": "text/x-python",
   "name": "python",
   "nbconvert_exporter": "python",
   "pygments_lexer": "ipython3",
   "version": "3.9.13"
  }
 },
 "nbformat": 4,
 "nbformat_minor": 5
}
