{
 "cells": [
  {
   "cell_type": "markdown",
   "id": "ac5da652",
   "metadata": {},
   "source": [
    "# Fundamentos da Linguagem Python para Análise de Dados e Data Science\n",
    "\n",
    "# Capítulo 5 - Loop While"
   ]
  },
  {
   "cell_type": "code",
   "execution_count": 1,
   "id": "653fd61f",
   "metadata": {},
   "outputs": [
    {
     "name": "stdout",
     "output_type": "stream",
     "text": [
      "Versão da Linguagem Python usada neste Jupyter Notebook: 3.9.13\n"
     ]
    }
   ],
   "source": [
    "# Versão da Linguagem Python\n",
    "from platform import python_version\n",
    "print('Versão da Linguagem Python usada neste Jupyter Notebook:', python_version())"
   ]
  },
  {
   "cell_type": "code",
   "execution_count": 2,
   "id": "2619ac6e",
   "metadata": {},
   "outputs": [
    {
     "name": "stdout",
     "output_type": "stream",
     "text": [
      "0\n",
      "1\n",
      "2\n",
      "3\n",
      "4\n",
      "5\n",
      "6\n",
      "7\n",
      "8\n",
      "9\n"
     ]
    }
   ],
   "source": [
    "# Usando o loop while para imprimir os valores de 0 a 9\n",
    "# A condição tem que deixar de ser verdadeira dentro do loop, senão pode travar o navegador ou mesmo o computador\n",
    "valor = 0\n",
    "while valor < 10:\n",
    "    print(valor)\n",
    "    valor = valor + 1"
   ]
  },
  {
   "cell_type": "code",
   "execution_count": 3,
   "id": "78efe86f",
   "metadata": {},
   "outputs": [],
   "source": [
    "# Entra no loop somenbte se a condição for verdadeira\n",
    "valor = 11\n",
    "while valor < 10:\n",
    "    print(valor)\n",
    "    valor = valor + 1"
   ]
  },
  {
   "cell_type": "code",
   "execution_count": 4,
   "id": "906c9aae",
   "metadata": {},
   "outputs": [
    {
     "name": "stdout",
     "output_type": "stream",
     "text": [
      "O valor de x nesta iteração é: 0\n",
      " X ainda é menor que 10, somando 1 a x\n",
      "O valor de x nesta iteração é: 1\n",
      " X ainda é menor que 10, somando 1 a x\n",
      "O valor de x nesta iteração é: 2\n",
      " X ainda é menor que 10, somando 1 a x\n",
      "O valor de x nesta iteração é: 3\n",
      " X ainda é menor que 10, somando 1 a x\n",
      "O valor de x nesta iteração é: 4\n",
      " X ainda é menor que 10, somando 1 a x\n",
      "O valor de x nesta iteração é: 5\n",
      " X ainda é menor que 10, somando 1 a x\n",
      "O valor de x nesta iteração é: 6\n",
      " X ainda é menor que 10, somando 1 a x\n",
      "O valor de x nesta iteração é: 7\n",
      " X ainda é menor que 10, somando 1 a x\n",
      "O valor de x nesta iteração é: 8\n",
      " X ainda é menor que 10, somando 1 a x\n",
      "O valor de x nesta iteração é: 9\n",
      " X ainda é menor que 10, somando 1 a x\n",
      "Loop Concluído\n",
      "10\n"
     ]
    }
   ],
   "source": [
    "# Também é possível usar a cláusula else para encerrar o loop While\n",
    "x = 0\n",
    "\n",
    "while x < 10:\n",
    "    print(\"O valor de x nesta iteração é:\", x)\n",
    "    print(\" X ainda é menor que 10, somando 1 a x\")\n",
    "    x += 1\n",
    "else:\n",
    "    print('Loop Concluído')\n",
    "\n",
    "print(x)"
   ]
  },
  {
   "cell_type": "markdown",
   "id": "60280ba0",
   "metadata": {},
   "source": [
    "## Pass, Break, Continue"
   ]
  },
  {
   "cell_type": "code",
   "execution_count": 5,
   "id": "1cb54e29",
   "metadata": {},
   "outputs": [
    {
     "name": "stdout",
     "output_type": "stream",
     "text": [
      "0\n",
      "1\n",
      "2\n",
      "3\n"
     ]
    }
   ],
   "source": [
    "# Se encontrarmos o número 4 interrompemos o loop\n",
    "valor = 0\n",
    "while valor < 10:\n",
    "    if valor == 4:\n",
    "        break\n",
    "    else:\n",
    "        pass\n",
    "    print(valor)\n",
    "    valor = valor + 1"
   ]
  },
  {
   "cell_type": "code",
   "execution_count": 6,
   "id": "bea7cd3f",
   "metadata": {},
   "outputs": [
    {
     "name": "stdout",
     "output_type": "stream",
     "text": [
      "P\n",
      "y\n",
      "t\n",
      "h\n",
      "o\n",
      "n\n",
      " \n",
      "é\n",
      " \n",
      " \n",
      "i\n",
      "n\n",
      "c\n",
      "r\n",
      "í\n",
      "v\n",
      "e\n",
      "l\n",
      "!\n"
     ]
    }
   ],
   "source": [
    "# Desconsideramos a letra z ao imprimir os caracteres da frase\n",
    "for letra in \"Python é zzz incrível!\":\n",
    "    if letra == \"z\":\n",
    "        continue\n",
    "    print(letra)"
   ]
  },
  {
   "cell_type": "markdown",
   "id": "1d7add68",
   "metadata": {},
   "source": []
  }
 ],
 "metadata": {
  "kernelspec": {
   "display_name": "Python 3 (ipykernel)",
   "language": "python",
   "name": "python3"
  },
  "language_info": {
   "codemirror_mode": {
    "name": "ipython",
    "version": 3
   },
   "file_extension": ".py",
   "mimetype": "text/x-python",
   "name": "python",
   "nbconvert_exporter": "python",
   "pygments_lexer": "ipython3",
   "version": "3.9.13"
  }
 },
 "nbformat": 4,
 "nbformat_minor": 5
}
