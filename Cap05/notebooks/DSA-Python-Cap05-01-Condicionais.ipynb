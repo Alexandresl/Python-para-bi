{
 "cells": [
  {
   "cell_type": "markdown",
   "id": "e323df38",
   "metadata": {},
   "source": [
    "# Capítulo 5 - Condicionais"
   ]
  },
  {
   "cell_type": "code",
   "execution_count": 1,
   "id": "b2093f5c",
   "metadata": {},
   "outputs": [
    {
     "name": "stdout",
     "output_type": "stream",
     "text": [
      "Versão da Linguagem Python usada neste Jupyter Notebook: 3.9.13\n"
     ]
    }
   ],
   "source": [
    "# Versão da linguagem Python\n",
    "from platform import python_version\n",
    "print('Versão da Linguagem Python usada neste Jupyter Notebook:', python_version())"
   ]
  },
  {
   "cell_type": "markdown",
   "id": "129496f6",
   "metadata": {},
   "source": [
    "## Condicional If"
   ]
  },
  {
   "cell_type": "code",
   "execution_count": 3,
   "id": "2a31e8cd",
   "metadata": {},
   "outputs": [
    {
     "name": "stdout",
     "output_type": "stream",
     "text": [
      "A sentença é verdadeira!\n"
     ]
    }
   ],
   "source": [
    "# Condicional if\n",
    "if 5 > 2:\n",
    "    print(\"A sentença é verdadeira!\")"
   ]
  },
  {
   "cell_type": "code",
   "execution_count": 4,
   "id": "382b1f24",
   "metadata": {},
   "outputs": [
    {
     "name": "stdout",
     "output_type": "stream",
     "text": [
      "A sentença é falsa!\n"
     ]
    }
   ],
   "source": [
    "# Condicional If...Else\n",
    "if 5 < 2:\n",
    "    print(\"A sentença é verdadeira!\")\n",
    "else:\n",
    "    print(\"A sentença é falsa!\")"
   ]
  },
  {
   "cell_type": "code",
   "execution_count": 5,
   "id": "9634f084",
   "metadata": {},
   "outputs": [
    {
     "name": "stdout",
     "output_type": "stream",
     "text": [
      "Hoje vai chover!\n"
     ]
    }
   ],
   "source": [
    "# Condicional If...Else com variável\n",
    "dia = \"Terça\"\n",
    "if dia == \"Segunda\":\n",
    "    print(\"Hoje fará sol!\")\n",
    "else:\n",
    "    print(\"Hoje vai chover!\")"
   ]
  },
  {
   "cell_type": "code",
   "execution_count": 6,
   "id": "ea61d61c",
   "metadata": {},
   "outputs": [
    {
     "name": "stdout",
     "output_type": "stream",
     "text": [
      "Hoje vai chover!\n"
     ]
    }
   ],
   "source": [
    "# Podemos usar o operador elif para validar mais de uma condição\n",
    "if dia == \"Segunda\":\n",
    "    print(\"Hoje fará sol!\")\n",
    "elif dia == \"Terça\":\n",
    "    print(\"Hoje vai chover!\")\n",
    "else:\n",
    "    print(\"Sem previsão do tempo para o dia selecionado\")"
   ]
  },
  {
   "cell_type": "markdown",
   "id": "147f903d",
   "metadata": {},
   "source": [
    "## Operadores Relacionais\n",
    "\n",
    "Retorna um valor booleano"
   ]
  },
  {
   "cell_type": "code",
   "execution_count": 7,
   "id": "8dd6fdd3",
   "metadata": {},
   "outputs": [
    {
     "data": {
      "text/plain": [
       "True"
      ]
     },
     "execution_count": 7,
     "metadata": {},
     "output_type": "execute_result"
    }
   ],
   "source": [
    "6 > 3"
   ]
  },
  {
   "cell_type": "code",
   "execution_count": 8,
   "id": "155a31e6",
   "metadata": {},
   "outputs": [
    {
     "data": {
      "text/plain": [
       "False"
      ]
     },
     "execution_count": 8,
     "metadata": {},
     "output_type": "execute_result"
    }
   ],
   "source": [
    "3 > 7"
   ]
  },
  {
   "cell_type": "code",
   "execution_count": 1,
   "id": "81071050",
   "metadata": {},
   "outputs": [
    {
     "data": {
      "text/plain": [
       "True"
      ]
     },
     "execution_count": 1,
     "metadata": {},
     "output_type": "execute_result"
    }
   ],
   "source": [
    "4 < 8"
   ]
  },
  {
   "cell_type": "code",
   "execution_count": 2,
   "id": "497d8902",
   "metadata": {},
   "outputs": [
    {
     "data": {
      "text/plain": [
       "True"
      ]
     },
     "execution_count": 2,
     "metadata": {},
     "output_type": "execute_result"
    }
   ],
   "source": [
    "4 >= 4"
   ]
  },
  {
   "cell_type": "code",
   "execution_count": 3,
   "id": "081a2a7c",
   "metadata": {},
   "outputs": [
    {
     "name": "stdout",
     "output_type": "stream",
     "text": [
      "Testando Python!\n"
     ]
    }
   ],
   "source": [
    "if 5 == 5:\n",
    "    print(\"Testando Python!\")"
   ]
  },
  {
   "cell_type": "code",
   "execution_count": 6,
   "id": "7175fc19",
   "metadata": {},
   "outputs": [
    {
     "name": "stdout",
     "output_type": "stream",
     "text": [
      "Parece que python funciona!\n"
     ]
    }
   ],
   "source": [
    "if True:\n",
    "    print(\"Parece que python funciona!\")"
   ]
  },
  {
   "cell_type": "code",
   "execution_count": 4,
   "id": "df858892",
   "metadata": {},
   "outputs": [
    {
     "ename": "SyntaxError",
     "evalue": "invalid syntax (2158862362.py, line 2)",
     "output_type": "error",
     "traceback": [
      "\u001b[1;36m  File \u001b[1;32m\"C:\\Users\\Alexandre\\AppData\\Local\\Temp\\ipykernel_13884\\2158862362.py\"\u001b[1;36m, line \u001b[1;32m2\u001b[0m\n\u001b[1;33m    if 4 > 3\u001b[0m\n\u001b[1;37m            ^\u001b[0m\n\u001b[1;31mSyntaxError\u001b[0m\u001b[1;31m:\u001b[0m invalid syntax\n"
     ]
    }
   ],
   "source": [
    "# Atenção com a sintaxe\n",
    "if 4 > 3\n",
    "    print(\"Tudo funciona\")"
   ]
  },
  {
   "cell_type": "code",
   "execution_count": 5,
   "id": "624e99a4",
   "metadata": {},
   "outputs": [
    {
     "ename": "IndentationError",
     "evalue": "expected an indented block (2843329154.py, line 3)",
     "output_type": "error",
     "traceback": [
      "\u001b[1;36m  File \u001b[1;32m\"C:\\Users\\Alexandre\\AppData\\Local\\Temp\\ipykernel_13884\\2843329154.py\"\u001b[1;36m, line \u001b[1;32m3\u001b[0m\n\u001b[1;33m    print(\"Tudo funciona!\")\u001b[0m\n\u001b[1;37m    ^\u001b[0m\n\u001b[1;31mIndentationError\u001b[0m\u001b[1;31m:\u001b[0m expected an indented block\n"
     ]
    }
   ],
   "source": [
    "# Atenção com a sintaxe\n",
    "if 4 > 3:\n",
    "print(\"Tudo funciona!\")"
   ]
  },
  {
   "cell_type": "markdown",
   "id": "29ce887d",
   "metadata": {},
   "source": [
    "### -> Fique atento aos espaços entre a margem e cada um dos seus comandos. Falaremos mais sobre indentação ao longo do curso. A indentação faz parte da sintaxe da linguagem Python."
   ]
  },
  {
   "cell_type": "markdown",
   "id": "74fc31e8",
   "metadata": {},
   "source": [
    "## Condicionais Aninhados"
   ]
  },
  {
   "cell_type": "code",
   "execution_count": 7,
   "id": "9a8ade2a",
   "metadata": {},
   "outputs": [
    {
     "name": "stdout",
     "output_type": "stream",
     "text": [
      "Você pode dirigir!\n"
     ]
    }
   ],
   "source": [
    "idade = 18\n",
    "if idade > 17:\n",
    "    print(\"Você pode dirigir!\")"
   ]
  },
  {
   "cell_type": "code",
   "execution_count": 9,
   "id": "7b06339e",
   "metadata": {},
   "outputs": [
    {
     "name": "stdout",
     "output_type": "stream",
     "text": [
      "Ok Bob, você está autorizado a entrar!\n"
     ]
    }
   ],
   "source": [
    "nome = \"Bob\"\n",
    "if idade > 13:\n",
    "    if nome == \"Bob\":\n",
    "        print(\"Ok Bob, você está autorizado a entrar!\")\n",
    "    else:\n",
    "        prit(\"Desculpe, mas você não pode entrar!\")"
   ]
  },
  {
   "cell_type": "code",
   "execution_count": 10,
   "id": "30a1f4d6",
   "metadata": {},
   "outputs": [
    {
     "name": "stdout",
     "output_type": "stream",
     "text": [
      "Ok Bob, você está autorizado a entrar!\n"
     ]
    }
   ],
   "source": [
    "idade = 13\n",
    "nome = \"Bob\"\n",
    "if idade >= 13 and nome == \"Bob\":\n",
    "    print(\"Ok Bob, você está autorizado a entrar!\")"
   ]
  },
  {
   "cell_type": "code",
   "execution_count": 14,
   "id": "d50d020f",
   "metadata": {},
   "outputs": [
    {
     "name": "stdout",
     "output_type": "stream",
     "text": [
      "Ok Bob, você está autorizado a entrar!\n"
     ]
    }
   ],
   "source": [
    "idade = 12\n",
    "nome = \"Bob\"\n",
    "if (idade >=13) or (nome == \"Bob\"):\n",
    "    print(\"Ok Bob, você está autorizado a entrar!\")"
   ]
  },
  {
   "cell_type": "markdown",
   "id": "c06695d9",
   "metadata": {},
   "source": [
    "## Operadores Lógicos"
   ]
  },
  {
   "cell_type": "code",
   "execution_count": null,
   "id": "c4c47554",
   "metadata": {},
   "outputs": [],
   "source": []
  }
 ],
 "metadata": {
  "kernelspec": {
   "display_name": "Python 3 (ipykernel)",
   "language": "python",
   "name": "python3"
  },
  "language_info": {
   "codemirror_mode": {
    "name": "ipython",
    "version": 3
   },
   "file_extension": ".py",
   "mimetype": "text/x-python",
   "name": "python",
   "nbconvert_exporter": "python",
   "pygments_lexer": "ipython3",
   "version": "3.9.13"
  }
 },
 "nbformat": 4,
 "nbformat_minor": 5
}
