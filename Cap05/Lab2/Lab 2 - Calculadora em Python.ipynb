{
 "cells": [
  {
   "cell_type": "markdown",
   "id": "b442c61f",
   "metadata": {},
   "source": [
    "# Lab 2 - Construindo Calculadora em Python\n",
    "\n",
    "## Desenvolva uma calculadora em Python com tudo que você aprendeu nos capítulos até aqui no curso.\n",
    "\n",
    "## A solução será apresentada no próximo capítulo"
   ]
  },
  {
   "cell_type": "code",
   "execution_count": 12,
   "id": "55e36b87",
   "metadata": {},
   "outputs": [],
   "source": [
    "def soma(num1, num2):\n",
    "    print(\"\\n\" + str(num1) + \" + \" + str(num2) + \" = \" + str(num1 + num2))\n",
    "    \n",
    "def subtracao(num1, num2):\n",
    "    print(\"\\n\" + str(num1) + \" - \" + str(num2) + \" = \" + str(num1 - num2))\n",
    "    \n",
    "def multiplicacao(num1, num2):\n",
    "    print(\"\\n\" + str(num1) + \" x \" + str(num2) + \" = \" + str(num1 * num2))\n",
    "    \n",
    "def divisao(num1, num2):\n",
    "    print(\"\\n\" + str(num1) + \" / \" + str(num2) + \" = \" + str(num1 / num2))"
   ]
  },
  {
   "cell_type": "code",
   "execution_count": 16,
   "id": "2002786a",
   "metadata": {},
   "outputs": [
    {
     "name": "stdout",
     "output_type": "stream",
     "text": [
      "\n",
      "******************** Calculadora em Python ********************\n",
      "\n",
      "\n",
      "Selecione o número da operação desejada:\n",
      "\n",
      "1 - Soma\n",
      "2 - Subtração\n",
      "3 - Multiplicação\n",
      "4 - Divisão\n",
      "5 - Sair\n",
      "\n",
      "Digite sua opção (1, 2, 3, 4 ou 5): 4\n",
      "\n",
      "Digite o primeiro número: 25\n",
      "\n",
      "Digite o segundo número: 3\n",
      "\n",
      "25 / 3 = 8.333333333333334\n",
      "\n",
      "\n",
      "Selecione o número da operação desejada:\n",
      "\n",
      "1 - Soma\n",
      "2 - Subtração\n",
      "3 - Multiplicação\n",
      "4 - Divisão\n",
      "5 - Sair\n",
      "\n",
      "Digite sua opção (1, 2, 3, 4 ou 5): 5\n",
      "\n",
      "Obrigado por usar nossa calculadora!\n"
     ]
    }
   ],
   "source": [
    "print(\"\\n******************** Calculadora em Python ********************\")\n",
    "print(\"\\n\\nSelecione o número da operação desejada:\")\n",
    "print(\"\\n1 - Soma\")\n",
    "print(\"2 - Subtração\")\n",
    "print(\"3 - Multiplicação\")\n",
    "print(\"4 - Divisão\")\n",
    "print(\"5 - Sair\")\n",
    "option = int(input(\"\\nDigite sua opção (1, 2, 3, 4 ou 5): \"))\n",
    "\n",
    "while option != 5:\n",
    "    \n",
    "    num1 = int(input(\"\\nDigite o primeiro número: \"))\n",
    "    num2 = int(input(\"\\nDigite o segundo número: \"))\n",
    "    \n",
    "    if option == 1:\n",
    "        soma(num1, num2)\n",
    "    elif option == 2:\n",
    "        subtracao(num1, num2)\n",
    "    elif option == 3:\n",
    "        multiplicacao(num1, num2)\n",
    "    elif option == 4:\n",
    "        divisao(num1, num2)\n",
    "    else:\n",
    "        print(\"Opção inválida\")\n",
    "    \n",
    "    print(\"\\n\\nSelecione o número da operação desejada:\")\n",
    "    print(\"\\n1 - Soma\")\n",
    "    print(\"2 - Subtração\")\n",
    "    print(\"3 - Multiplicação\")\n",
    "    print(\"4 - Divisão\")\n",
    "    print(\"5 - Sair\")\n",
    "    option = int(input(\"\\nDigite sua opção (1, 2, 3, 4 ou 5): \"))\n",
    "    \n",
    "print(\"\\nObrigado por usar nossa calculadora!\")"
   ]
  },
  {
   "cell_type": "code",
   "execution_count": null,
   "id": "2af6edfd",
   "metadata": {},
   "outputs": [],
   "source": []
  }
 ],
 "metadata": {
  "kernelspec": {
   "display_name": "Python 3 (ipykernel)",
   "language": "python",
   "name": "python3"
  },
  "language_info": {
   "codemirror_mode": {
    "name": "ipython",
    "version": 3
   },
   "file_extension": ".py",
   "mimetype": "text/x-python",
   "name": "python",
   "nbconvert_exporter": "python",
   "pygments_lexer": "ipython3",
   "version": "3.9.13"
  }
 },
 "nbformat": 4,
 "nbformat_minor": 5
}
