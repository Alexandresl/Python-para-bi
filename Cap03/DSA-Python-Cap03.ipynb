{
 "cells": [
  {
   "cell_type": "markdown",
   "id": "5b2f382e",
   "metadata": {},
   "source": [
    "# Fundamentos da Linguagem Python Para Análise de Dados e Data Science"
   ]
  },
  {
   "cell_type": "markdown",
   "id": "8c8f6d17",
   "metadata": {},
   "source": [
    "# Capítulo 3 - Introdução à Lógica de Programação"
   ]
  },
  {
   "cell_type": "code",
   "execution_count": 5,
   "id": "90b7b43b",
   "metadata": {},
   "outputs": [
    {
     "name": "stdout",
     "output_type": "stream",
     "text": [
      "Versão da Linguagem Python usada neste Jupyter Notebook: 3.9.13\n"
     ]
    }
   ],
   "source": [
    "# Versão da Linguagem Python\n",
    "from platform import python_version\n",
    "print(\"Versão da Linguagem Python usada neste Jupyter Notebook:\", python_version())"
   ]
  },
  {
   "cell_type": "markdown",
   "id": "cac45313",
   "metadata": {},
   "source": [
    "**Pressione as teclas shift e enter para executar o código em uma célula ou pressione o botão Run no menu superior.**"
   ]
  },
  {
   "cell_type": "markdown",
   "id": "af09423a",
   "metadata": {},
   "source": [
    "## Pseudocódigo 1 - Calcular a área de um paralelogramo"
   ]
  },
  {
   "cell_type": "markdown",
   "id": "9615e9b5",
   "metadata": {},
   "source": [
    "Nota: Um paralelogramo é um quadrilátero com lados opostos paralelos (e portanto ângulos opostos iguais). Um quadrilátero com lados iguais é chamado de losango e um paralelogramo cujos ângulos são todos ângulos retos é chamado de retângulo.\n",
    "\n",
    "```\n",
    "Inicie\n",
    "    Exiba \"Bem-vindo ao Calculador de área de Paralelogramo\"\n",
    "    Peça para o usuário inserir o comprimento da base\n",
    "    Armazene o comprimento da base em uma variável\n",
    "    Peça para o usuário inserir a altura\n",
    "    Armazene a algura em uma variável\n",
    "    Calcule a área do paralelogramo: base * altura\n",
    "    Armazaene o resultado em uma variável\n",
    "    Exiba o resultado \n",
    "Fim\n",
    "```\n"
   ]
  },
  {
   "cell_type": "markdown",
   "id": "fbfc134a",
   "metadata": {},
   "source": [
    "## Convertendo o Pseudocódigo 1 em Programa Python"
   ]
  },
  {
   "cell_type": "markdown",
   "id": "71def0aa",
   "metadata": {},
   "source": [
    "print(\"Bem-vindo ao Calculador de Área de Paralelogramo\")\n",
    "\n",
    "base = float(input(\"Insira o comprimento da base: \"))\n",
    "\n",
    "altura = float(input(\"Insira a altura: \"))\n",
    "\n",
    "area = base * altura\n",
    "\n",
    "print(\"A área do paralelogramo é:\", area)"
   ]
  },
  {
   "cell_type": "markdown",
   "id": "b73cbc2d",
   "metadata": {},
   "source": [
    "## Fim"
   ]
  },
  {
   "cell_type": "markdown",
   "id": "8a793dce",
   "metadata": {},
   "source": [
    "## Pseudocódigo 2 - Calculadora simples"
   ]
  },
  {
   "cell_type": "markdown",
   "id": "cec15ebb",
   "metadata": {},
   "source": [
    "```\n",
    "Inicie\n",
    "  Exiba \"Bem-Vindo à Calculadora\"\n",
    "  Peça para o usuário inserir o primeiro número\n",
    "  Armazene o primeiro número em uma variável\n",
    "  Peça para o usuário inserir o segundo número\n",
    "  Armazene o segundo número em uma variável\n",
    "  Peça para o usuário selecionar uma operação (+, -, *, /)\n",
    "  Armazene a operação em uma variável\n",
    "  Utilize a operação selecionada e os números armazenados para realizar o cálculo\n",
    "  Exiba o resultado  \n",
    "Fim\n",
    "```"
   ]
  },
  {
   "cell_type": "code",
   "execution_count": 11,
   "id": "1ca086e1",
   "metadata": {},
   "outputs": [
    {
     "name": "stdout",
     "output_type": "stream",
     "text": [
      "Bem-Vindo à Calculadora\n",
      "Digite o primeiro número: 5\n",
      "Digite o segundo número: 10\n",
      "Digite a operação (+, -, *, /)*\n",
      "O resultado é: 50.0\n"
     ]
    }
   ],
   "source": [
    "print(\"Bem-Vindo à Calculadora\")\n",
    "\n",
    "num1 = float(input(\"Digite o primeiro número: \"))\n",
    "\n",
    "num2 = float(input(\"Digite o segundo número: \"))\n",
    "\n",
    "operacao = input(\"Digite a operação (+, -, *, /)\")\n",
    "\n",
    "if operacao == \"+\":\n",
    "    resultado = num1 + num2\n",
    "    print(\"O resultado é:\", resultado)\n",
    "elif operacao == \"-\":\n",
    "    resultado = num1 - num2\n",
    "    print(\"O resultado é:\", resultado)\n",
    "elif operacao == \"*\":\n",
    "    resultado = num1 * num2\n",
    "    print(\"O resultado é:\", resultado)\n",
    "elif operacao == \"/\":\n",
    "    resultado = num1 / num2\n",
    "    print(\"O resultado é:\", resultado)\n",
    "else:\n",
    "    print(\"Operação inválida.\")\n"
   ]
  },
  {
   "cell_type": "markdown",
   "id": "f5f56e86",
   "metadata": {},
   "source": [
    "## Fim"
   ]
  },
  {
   "cell_type": "markdown",
   "id": "45a74b16",
   "metadata": {},
   "source": [
    "## Pseudocódigo 3 - Algoritmo Bubble Sort"
   ]
  },
  {
   "cell_type": "markdown",
   "id": "b71fadd4",
   "metadata": {},
   "source": [
    "Bubble Sort é um algoritmo de ordenação simples que funciona comparando cada elemento com o próximo, e trocando-os de lugar se eles estiverem em ordem incorreta. O algoritmo repete esse processo várias vezes, até que todos os elementos estejam ordenados. A cada passagem, o maior elemento \"flutua\" para o final do array, como uma bolha, dando origem ao nome do algoritmo."
   ]
  },
  {
   "cell_type": "markdown",
   "id": "fcdf03dc",
   "metadata": {},
   "source": [
    "```\n",
    "Inicie\n",
    "  Para cada elemento i no array de tamanho n\n",
    "    Para cada elemento j no array de tamanho n - 1\n",
    "      Se o elemento i for maior que elemento j\n",
    "        troque os elementos i e j\n",
    "  Exiba o array ordenado\n",
    "Fim\n",
    "```"
   ]
  },
  {
   "cell_type": "code",
   "execution_count": 16,
   "id": "a2af95be",
   "metadata": {},
   "outputs": [
    {
     "name": "stdout",
     "output_type": "stream",
     "text": [
      "[0, 1, 3, 4, 6, 7, 8, 10, 11, 12, 16, 17, 19, 21, 29, 30, 34, 39, 43, 56, 61, 67, 82]\n"
     ]
    }
   ],
   "source": [
    "lista = [6, 7, 8, 3, 10, 19, 4, 1, 0, 61, 30, 16, 17, 82, 29, 34, 43, 21, 11, 39, 56, 67, 12]\n",
    "\n",
    "def bubble_sort(arr):\n",
    "    \n",
    "    n = len(arr)\n",
    "    \n",
    "    # Para cada elemento i do array\n",
    "    for i in range(n):\n",
    "        \n",
    "        # Para cada elemento j do array\n",
    "        for j in range(0, n-i-1):\n",
    "            \n",
    "            # Se elemento i for maior que elemento j\n",
    "            if arr[j] > arr[j+1]:\n",
    "                \n",
    "                # Troque os elementos i e j\n",
    "                arr[j], arr[j+1] = arr[j+1], arr[j]\n",
    "    return arr\n",
    "\n",
    "print(bubble_sort(lista))\n",
    "    "
   ]
  },
  {
   "cell_type": "markdown",
   "id": "28d05509",
   "metadata": {},
   "source": [
    "## Fim"
   ]
  }
 ],
 "metadata": {
  "kernelspec": {
   "display_name": "Python 3 (ipykernel)",
   "language": "python",
   "name": "python3"
  },
  "language_info": {
   "codemirror_mode": {
    "name": "ipython",
    "version": 3
   },
   "file_extension": ".py",
   "mimetype": "text/x-python",
   "name": "python",
   "nbconvert_exporter": "python",
   "pygments_lexer": "ipython3",
   "version": "3.9.13"
  }
 },
 "nbformat": 4,
 "nbformat_minor": 5
}
