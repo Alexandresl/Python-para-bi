{
 "cells": [
  {
   "cell_type": "markdown",
   "id": "beee734c",
   "metadata": {},
   "source": [
    "# Fundamentos de Linguagem Python para Análise de Dados e Data Science\n",
    "\n",
    "# Introdução à programação Orientada a Objetos - Métodos"
   ]
  },
  {
   "cell_type": "code",
   "execution_count": 2,
   "id": "dd6b53fe",
   "metadata": {},
   "outputs": [
    {
     "name": "stdout",
     "output_type": "stream",
     "text": [
      "A versão da Linguagem Python usadas neste Jupyter Notebook: 3.9.13\n"
     ]
    }
   ],
   "source": [
    "# Versão da Linguagem Python\n",
    "from platform import python_version\n",
    "print(\"A versão da Linguagem Python usadas neste Jupyter Notebook:\", python_version())"
   ]
  },
  {
   "cell_type": "markdown",
   "id": "b888ee5a",
   "metadata": {},
   "source": [
    "## Trabalhando com métodos de classes em Python\n",
    "\n",
    "Em python, os métodos de classes são funções definidas dentro de uma classe, que realizam operações específicas em objetos criados a partir dessa classe. Os métodos de classes são usados para implementar o comportamento dos objetos que pertencem a essa classe.\n",
    "\n",
    "Assim como as funções em Python, os métodos de classes podem receber argumentos e retornar valores. No entanto, diferentemente das funções normais, os métodos de classes sempre incluem o parâmetro self como o primeiro argumento, que é usadas para se referir ao objeto atual da classes.\n",
    "\n",
    "O método init é um método especial que é chamado quando um ojeto é criado a partir da classes. Este método é usado para inicializar os atributos do objeto. Outros métodos podem ser definidos para executar tarefas espcíficas em um ojeto, como calcular valores, realizar operações de entrada e saída, ou alterar o estado do objeto."
   ]
  },
  {
   "cell_type": "code",
   "execution_count": 32,
   "id": "0faf58bf",
   "metadata": {},
   "outputs": [],
   "source": [
    "# Criando uma classe chamada cículo\n",
    "class Circulo():\n",
    "    \n",
    "    # O valor de pi é uma constante\n",
    "    pi = 3.14\n",
    "    \n",
    "    # Quando um objerto desta classer for criado, este método será executado e o valor default do raio será 5.\n",
    "    def __init__(self, raio = 5):\n",
    "        self.raio = raio\n",
    "        \n",
    "    # Este método calcula a área.\n",
    "    def area(self):\n",
    "        return (self.raio * self.raio) * Circulo.pi\n",
    "    \n",
    "    # Método para gerar um novo raio\n",
    "    def setRaio(self, novo_raio):\n",
    "        self.raio = novo_raio\n",
    "    \n",
    "    # Método para obter o raio do círculo\n",
    "    def getRaio(self):\n",
    "        return self.raio"
   ]
  },
  {
   "cell_type": "code",
   "execution_count": 33,
   "id": "08416dce",
   "metadata": {},
   "outputs": [],
   "source": [
    "# Criando o objeto circ, uma instância da classe Circulo()\n",
    "circ = Circulo()"
   ]
  },
  {
   "cell_type": "code",
   "execution_count": 34,
   "id": "6fe2d61f",
   "metadata": {},
   "outputs": [
    {
     "data": {
      "text/plain": [
       "5"
      ]
     },
     "execution_count": 34,
     "metadata": {},
     "output_type": "execute_result"
    }
   ],
   "source": [
    "# Exercutando um método da classe Circulo\n",
    "circ.getRaio()"
   ]
  },
  {
   "cell_type": "code",
   "execution_count": 35,
   "id": "4c96bd9e",
   "metadata": {},
   "outputs": [],
   "source": [
    "# Criando outro objeto chamado circ1. Uma instância da classe Círculo()\n",
    "# Agora sobrescrevendo o valor do atributo\n",
    "circ1 = Circulo(7)"
   ]
  },
  {
   "cell_type": "code",
   "execution_count": 36,
   "id": "f00232cb",
   "metadata": {},
   "outputs": [
    {
     "data": {
      "text/plain": [
       "7"
      ]
     },
     "execution_count": 36,
     "metadata": {},
     "output_type": "execute_result"
    }
   ],
   "source": [
    "# Executando um método da classe Circulo\n",
    "circ1.getRaio()"
   ]
  },
  {
   "cell_type": "code",
   "execution_count": 37,
   "id": "07ef79b9",
   "metadata": {},
   "outputs": [
    {
     "name": "stdout",
     "output_type": "stream",
     "text": [
      "O raio é: 5\n"
     ]
    }
   ],
   "source": [
    "# Imprimindo o raio\n",
    "print(f\"O raio é: {circ.getRaio()}\")"
   ]
  },
  {
   "cell_type": "code",
   "execution_count": 38,
   "id": "7a67e0b0",
   "metadata": {},
   "outputs": [
    {
     "name": "stdout",
     "output_type": "stream",
     "text": [
      "O raio é: 78.5\n"
     ]
    }
   ],
   "source": [
    "# Imprimindo a área\n",
    "print(f\"O raio é: {circ.area()}\")"
   ]
  },
  {
   "cell_type": "code",
   "execution_count": 39,
   "id": "d13c6159",
   "metadata": {},
   "outputs": [],
   "source": [
    "# Gerando um novo valor para o raio do círculo\n",
    "circ.setRaio(3)"
   ]
  },
  {
   "cell_type": "code",
   "execution_count": 40,
   "id": "096d7a95",
   "metadata": {},
   "outputs": [
    {
     "name": "stdout",
     "output_type": "stream",
     "text": [
      "O raio é: 3\n"
     ]
    }
   ],
   "source": [
    "# Imprimindo o novo raior\n",
    "print(f\"O raio é: {circ.getRaio()}\")"
   ]
  },
  {
   "cell_type": "markdown",
   "id": "43e49ee2",
   "metadata": {},
   "source": [
    "## Fim"
   ]
  }
 ],
 "metadata": {
  "kernelspec": {
   "display_name": "Python 3 (ipykernel)",
   "language": "python",
   "name": "python3"
  },
  "language_info": {
   "codemirror_mode": {
    "name": "ipython",
    "version": 3
   },
   "file_extension": ".py",
   "mimetype": "text/x-python",
   "name": "python",
   "nbconvert_exporter": "python",
   "pygments_lexer": "ipython3",
   "version": "3.9.13"
  }
 },
 "nbformat": 4,
 "nbformat_minor": 5
}
