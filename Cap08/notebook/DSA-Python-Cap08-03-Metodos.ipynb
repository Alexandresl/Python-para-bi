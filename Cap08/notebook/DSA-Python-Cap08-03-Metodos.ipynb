{
 "cells": [
  {
   "cell_type": "markdown",
   "id": "ddc7bed7",
   "metadata": {},
   "source": [
    "# Fundamentos de Linguagem Python para Análise de Dados e Data Science\n",
    "\n",
    "# Introdução à programação Orientada a Objetos - Métodos"
   ]
  },
  {
   "cell_type": "code",
   "execution_count": 2,
   "id": "75f46d71",
   "metadata": {},
   "outputs": [
    {
     "name": "stdout",
     "output_type": "stream",
     "text": [
      "A versão da Linguagem Python usadas neste Jupyter Notebook: 3.9.13\n"
     ]
    }
   ],
   "source": [
    "# Versão da Linguagem Python\n",
    "from platform import python_version\n",
    "print(\"A versão da Linguagem Python usadas neste Jupyter Notebook:\", python_version())"
   ]
  },
  {
   "cell_type": "markdown",
   "id": "5ad57624",
   "metadata": {},
   "source": [
    "## Trabalhando com métodos de classes em Python\n",
    "\n",
    "Em python, os métodos de classes são funções definidas dentro de uma classe, que realizam operações específicas em objetos criados a partir dessa classe. Os métodos de classes são usados para implementar o comportamento dos objetos que pertencem a essa classe.\n",
    "\n",
    "Assim como as funções em Python, os métodos de classes podem receber argumentos e retornar valores. No entanto, diferentemente das funções normais, os métodos de classes sempre incluem o parâmetro self como o primeiro argumento, que é usadas para se referir ao objeto atual da classes.\n",
    "\n",
    "O método init é um método especial que é chamado quando um ojeto é criado a partir da classes. Este método é usado para inicializar os atributos do objeto. Outros métodos podem ser definidos para executar tarefas espcíficas em um ojeto, como calcular valores, realizar operações de entrada e saída, ou alterar o estado do objeto."
   ]
  },
  {
   "cell_type": "code",
   "execution_count": 13,
   "id": "b89f1f57",
   "metadata": {},
   "outputs": [],
   "source": [
    "# Criando uma classe chamada cículo\n",
    "class Circulo():\n",
    "    \n",
    "    # O valor de pi é uma constante\n",
    "    pi = 3.14\n",
    "    \n",
    "    # Quando um objerto desta classer for criado, este método será executado e o valor default do raio será 5.\n",
    "    def __init__(self, raio = 5):\n",
    "        self.raio = raio\n",
    "        \n",
    "    # Este método calcula a área.\n",
    "    def area(self):\n",
    "        return (self.raio * self.raio) * Circulo.pi\n",
    "    \n",
    "    # Método para gerar um novo raio\n",
    "    def setRaio(self, novo_raio):\n",
    "        self.raio = novo_raio\n",
    "    \n",
    "    # Método para obter o raio do círculo\n",
    "    def getRaio(self):\n",
    "        return self.raio"
   ]
  },
  {
   "cell_type": "code",
   "execution_count": 14,
   "id": "0c8e3cdd",
   "metadata": {},
   "outputs": [],
   "source": [
    "# Criando o objeto circ, uma instância da classe Circulo()\n",
    "circ = Circulo()"
   ]
  },
  {
   "cell_type": "code",
   "execution_count": 15,
   "id": "4f85cc6d",
   "metadata": {},
   "outputs": [
    {
     "data": {
      "text/plain": [
       "5"
      ]
     },
     "execution_count": 15,
     "metadata": {},
     "output_type": "execute_result"
    }
   ],
   "source": [
    "circ.getRaio()"
   ]
  },
  {
   "cell_type": "code",
   "execution_count": null,
   "id": "6607242e",
   "metadata": {},
   "outputs": [],
   "source": [
    "circ.pi\n"
   ]
  }
 ],
 "metadata": {
  "kernelspec": {
   "display_name": "Python 3 (ipykernel)",
   "language": "python",
   "name": "python3"
  },
  "language_info": {
   "codemirror_mode": {
    "name": "ipython",
    "version": 3
   },
   "file_extension": ".py",
   "mimetype": "text/x-python",
   "name": "python",
   "nbconvert_exporter": "python",
   "pygments_lexer": "ipython3",
   "version": "3.9.13"
  }
 },
 "nbformat": 4,
 "nbformat_minor": 5
}
